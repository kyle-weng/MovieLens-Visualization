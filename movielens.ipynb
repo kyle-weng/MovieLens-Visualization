{
 "cells": [
  {
   "cell_type": "markdown",
   "metadata": {},
   "source": [
    "# MovieLens"
   ]
  },
  {
   "cell_type": "code",
   "execution_count": 1,
   "metadata": {},
   "outputs": [],
   "source": [
    "import numpy as np\n",
    "import matplotlib.pyplot as plt\n",
    "import pandas as pd\n",
    "\n",
    "import time"
   ]
  },
  {
   "cell_type": "markdown",
   "metadata": {},
   "source": [
    "## load data"
   ]
  },
  {
   "cell_type": "code",
   "execution_count": 26,
   "metadata": {},
   "outputs": [],
   "source": [
    "data = pd.read_csv(\"data/data.txt\", sep=\"\\t\", header=None,\n",
    "                   names=[\"user\", \"movie\", \"rating\"])\n",
    "movies = pd.read_csv(\"data/movies.txt\", sep=\"\\t\", header=None, index_col=0,\n",
    "                     names=[\"movie\",\"title\",\"unknown\",\"action\",\"adventure\",\"animation\",\n",
    "                            \"childrens\", \"comedy\",\"crime\",\"documentary\",\"drama\",\n",
    "                            \"fantasy\", \"filmnoir\", \"horror\",\"musical\",\"mystery\",\n",
    "                            \"romance\",\"scifi\",\"thriller\",\"war\",\"western\"]\n",
    "                    )"
   ]
  },
  {
   "cell_type": "code",
   "execution_count": 28,
   "metadata": {},
   "outputs": [
    {
     "data": {
      "text/plain": [
       "(array([ 6110.,     0., 11370.,     0.,     0., 27145.,     0., 34174.,\n",
       "            0., 21201.]),\n",
       " array([1. , 1.4, 1.8, 2.2, 2.6, 3. , 3.4, 3.8, 4.2, 4.6, 5. ]),\n",
       " <a list of 10 Patch objects>)"
      ]
     },
     "execution_count": 28,
     "metadata": {},
     "output_type": "execute_result"
    },
    {
     "data": {
      "image/png": "[encoded data removed]",
      "text/plain": [
       "<Figure size 432x288 with 1 Axes>"
      ]
     },
     "metadata": {
      "needs_background": "light"
     },
     "output_type": "display_data"
    }
   ],
   "source": [
    "plt.hist(data[\"rating\"])"
   ]
  },
  {
   "cell_type": "markdown",
   "metadata": {},
   "source": [
    "## SVD"
   ]
  },
  {
   "cell_type": "code",
   "execution_count": 2,
   "metadata": {},
   "outputs": [],
   "source": [
    "def grad_U(Ui, Yij, Vj, reg):\n",
    "    \"\"\"\n",
    "    Returns the gradient of the regularized loss function with\n",
    "    respect to Ui.\n",
    "    \"\"\"\n",
    "    return reg * Ui - Vj * (Yij - np.dot(Ui, Vj))\n",
    "\n",
    "def grad_V(Vj, Yij, Ui, reg):\n",
    "    \"\"\"\n",
    "    Returns the gradient of the regularized loss function with\n",
    "    respect to Vj multiplied by eta.\n",
    "    \"\"\"\n",
    "    return reg * Vj - Ui * (Yij - np.dot(Ui, Vj))\n",
    "\n",
    "def get_err(U, V, Y, reg=0.0):\n",
    "    \"\"\"\n",
    "    Returns the mean regularized squared-error of predictions made by\n",
    "    estimating Y_{ij} as the dot product of the ith row of U and the jth column of V^T.\n",
    "    \"\"\"\n",
    "    # regularization term\n",
    "    r = .5 * reg * (np.sum(np.square(U)) + np.sum(np.square(V))) if reg else 0\n",
    "    # add error term and divide by number of data points\n",
    "    return (r + .5 * np.sum(np.square(\n",
    "                # calculates reconstruction error\n",
    "                Y[:,2] - np.einsum(\"ij,ij->i\",\n",
    "                          U[Y[:,0]-1,], # one-indexed users and movies\n",
    "                          V[Y[:,1]-1,]\n",
    "                )\n",
    "            ))) / len(Y)\n",
    "\n",
    "def train_model(M, N, K, eta, reg, Y, eps=0.0001, max_epochs=300):\n",
    "    \"\"\"\n",
    "    Returns a tuple (U, V, err) consisting of U, V, and the unregularized MSE\n",
    "    of the model.\n",
    "    \"\"\"\n",
    "    U = np.random.rand(M, K) - 0.5\n",
    "    V = np.random.rand(N, K) - 0.5\n",
    "    eprev = get_err(U, V, Y)\n",
    "    reduction0 = 1\n",
    "    for epoch in range(max_epochs):\n",
    "        for i in np.random.permutation(len(Y)):\n",
    "            user, movie, rating = Y[i,0]-1, Y[i,1]-1, Y[i,2]\n",
    "            # calculate gradients at once\n",
    "            gU = grad_U(U[user], rating, V[movie], reg, eta)\n",
    "            gV = grad_V(V[movie], rating, U[user], reg, eta)\n",
    "            # before descending\n",
    "            U[user] -= eta * gU\n",
    "            V[movie] -= eta * gV\n",
    "        e = get_err(U, V, Y, reg=reg)\n",
    "        # stopping conditions\n",
    "        reduction = eprev - e\n",
    "        reductionratio = reduction / reduction0\n",
    "        #print(\"epoch\", epoch, eprev, reductionratio)\n",
    "        if (epoch == 0):\n",
    "            reduction0 = reduction\n",
    "        if (reductionratio < eps):\n",
    "            break\n",
    "        eprev = e\n",
    "    print(\"trained epochs:\", epoch, reduction)\n",
    "    return U, V, e"
   ]
  },
  {
   "cell_type": "markdown",
   "metadata": {},
   "source": [
    "## 2D:\n",
    "Run the cell below to get your graphs"
   ]
  },
  {
   "cell_type": "code",
   "execution_count": 3,
   "metadata": {},
   "outputs": [
    {
     "name": "stdout",
     "output_type": "stream",
     "text": [
      "Factorizing with  943  users,  1682  movies.\n",
      "K 10\n",
      "trained epochs: 17 0.0003561911339897694\n",
      "K 20\n",
      "trained epochs: 27 0.00048734124876081975\n",
      "K 30\n",
      "trained epochs: 24 0.0004659912529364624\n",
      "K 50\n",
      "trained epochs: 23 -3.9355490590177455e-05\n",
      "K 100\n",
      "trained epochs: 17 0.00035754578734423616\n",
      "elapsed 160.91393899917603\n"
     ]
    },
    {
     "data": {
      "image/png": "[encoded data removed]",
      "text/plain": [
       "<Figure size 432x288 with 1 Axes>"
      ]
     },
     "metadata": {
      "needs_background": "light"
     },
     "output_type": "display_data"
    }
   ],
   "source": [
    "Y_train = np.loadtxt('./data/train.txt').astype(int)\n",
    "Y_test = np.loadtxt('./data/test.txt').astype(int)\n",
    "\n",
    "M = max(max(Y_train[:,0]), max(Y_test[:,0])).astype(int) # users\n",
    "N = max(max(Y_train[:,1]), max(Y_test[:,1])).astype(int) # movies\n",
    "print(\"Factorizing with \", M, \" users, \", N, \" movies.\")\n",
    "Ks = [10,20,30,50,100]\n",
    "\n",
    "reg = 0.0\n",
    "eta = 0.03 # learning rate\n",
    "E_in = []\n",
    "E_out = []\n",
    "\n",
    "# Use to compute Ein and Eout\n",
    "start = time.time()\n",
    "for K in Ks:\n",
    "    print(\"K\", K)\n",
    "    U,V, err = train_model(M, N, K, eta, reg, Y_train)\n",
    "    E_in.append(err)\n",
    "    E_out.append(get_err(U, V, Y_test))\n",
    "print(\"elapsed\", time.time() - start)\n",
    "\n",
    "plt.plot(Ks, E_in, label='$E_{in}$')\n",
    "plt.plot(Ks, E_out, label='$E_{out}$')\n",
    "plt.title('Error vs. K')\n",
    "plt.xlabel('K')\n",
    "plt.ylabel('Error')\n",
    "plt.legend()\n",
    "plt.savefig('2d.png')"
   ]
  },
  {
   "cell_type": "markdown",
   "metadata": {},
   "source": [
    "## 2E:\n",
    "Run the cell below to get your graphs. This might take a long time to run, but it should take less than 2 hours. I would encourage you to validate your 2C is correct."
   ]
  },
  {
   "cell_type": "code",
   "execution_count": 4,
   "metadata": {},
   "outputs": [
    {
     "name": "stdout",
     "output_type": "stream",
     "text": [
      "Training model with M = 943, N = 1682, k = 10, eta = 0.03, reg = 0.0001\n",
      "trained epochs: 13 -0.00030569675098157667\n",
      "Training model with M = 943, N = 1682, k = 20, eta = 0.03, reg = 0.0001\n",
      "trained epochs: 16 -0.0009414571753399714\n",
      "Training model with M = 943, N = 1682, k = 30, eta = 0.03, reg = 0.0001\n",
      "trained epochs: 23 0.0001965457208405741\n",
      "Training model with M = 943, N = 1682, k = 50, eta = 0.03, reg = 0.0001\n",
      "trained epochs: 22 0.0006177478195454542\n",
      "Training model with M = 943, N = 1682, k = 100, eta = 0.03, reg = 0.0001\n",
      "trained epochs: 17 0.0006229772654864404\n",
      "Training model with M = 943, N = 1682, k = 10, eta = 0.03, reg = 0.001\n",
      "trained epochs: 17 -0.0013958983590586782\n",
      "Training model with M = 943, N = 1682, k = 20, eta = 0.03, reg = 0.001\n",
      "trained epochs: 21 0.00029990712932975727\n",
      "Training model with M = 943, N = 1682, k = 30, eta = 0.03, reg = 0.001\n",
      "trained epochs: 18 0.0005439426496856165\n",
      "Training model with M = 943, N = 1682, k = 50, eta = 0.03, reg = 0.001\n",
      "trained epochs: 27 0.000621797774609547\n",
      "Training model with M = 943, N = 1682, k = 100, eta = 0.03, reg = 0.001\n",
      "trained epochs: 17 0.0005988737033730289\n",
      "Training model with M = 943, N = 1682, k = 10, eta = 0.03, reg = 0.01\n",
      "trained epochs: 21 -0.0006039955152180032\n",
      "Training model with M = 943, N = 1682, k = 20, eta = 0.03, reg = 0.01\n",
      "trained epochs: 21 -0.00028654281674916904\n",
      "Training model with M = 943, N = 1682, k = 30, eta = 0.03, reg = 0.01\n",
      "trained epochs: 23 0.0006263527476315922\n",
      "Training model with M = 943, N = 1682, k = 50, eta = 0.03, reg = 0.01\n",
      "trained epochs: 18 0.0005833026618112316\n",
      "Training model with M = 943, N = 1682, k = 100, eta = 0.03, reg = 0.01\n",
      "trained epochs: 17 0.0006239046367897405\n",
      "Training model with M = 943, N = 1682, k = 10, eta = 0.03, reg = 0.1\n",
      "trained epochs: 21 0.0003572644868378716\n",
      "Training model with M = 943, N = 1682, k = 20, eta = 0.03, reg = 0.1\n",
      "trained epochs: 19 1.8105672075274803e-05\n",
      "Training model with M = 943, N = 1682, k = 30, eta = 0.03, reg = 0.1\n",
      "trained epochs: 20 -0.00012923344802490133\n",
      "Training model with M = 943, N = 1682, k = 50, eta = 0.03, reg = 0.1\n",
      "trained epochs: 21 -0.00037897702225189733\n",
      "Training model with M = 943, N = 1682, k = 100, eta = 0.03, reg = 0.1\n",
      "trained epochs: 9 -0.000490184125256754\n",
      "Training model with M = 943, N = 1682, k = 10, eta = 0.03, reg = 1\n",
      "trained epochs: 4 -0.032690285016517606\n",
      "Training model with M = 943, N = 1682, k = 20, eta = 0.03, reg = 1\n",
      "trained epochs: 4 -0.008184129952634178\n",
      "Training model with M = 943, N = 1682, k = 30, eta = 0.03, reg = 1\n",
      "trained epochs: 5 -0.0022408296032749853\n",
      "Training model with M = 943, N = 1682, k = 50, eta = 0.03, reg = 1\n",
      "trained epochs: 3 -0.010007034538221493\n",
      "Training model with M = 943, N = 1682, k = 100, eta = 0.03, reg = 1\n",
      "trained epochs: 5 -0.010225427468835369\n",
      "elapsed 686.0301768779755\n"
     ]
    },
    {
     "data": {
      "image/png": "[encoded data removed]",
      "text/plain": [
       "<Figure size 432x288 with 1 Axes>"
      ]
     },
     "metadata": {
      "needs_background": "light"
     },
     "output_type": "display_data"
    }
   ],
   "source": [
    "Y_train = np.loadtxt('./data/train.txt').astype(int)\n",
    "Y_test = np.loadtxt('./data/test.txt').astype(int)\n",
    "\n",
    "M = max(max(Y_train[:,0]), max(Y_test[:,0])).astype(int) # users\n",
    "N = max(max(Y_train[:,1]), max(Y_test[:,1])).astype(int) # movies\n",
    "Ks = [10,20,30,50,100]\n",
    "\n",
    "regs = [10**-4, 10**-3, 10**-2, 10**-1, 1]\n",
    "eta = 0.03 # learning rate\n",
    "E_ins = []\n",
    "E_outs = []\n",
    "\n",
    "# Use to compute Ein and Eout\n",
    "start = time.time()\n",
    "for reg in regs:\n",
    "    E_ins_for_lambda = []\n",
    "    E_outs_for_lambda = []\n",
    "\n",
    "    for k in Ks:\n",
    "        print(\"Training model with M = %s, N = %s, k = %s, eta = %s, reg = %s\"%(M, N, k, eta, reg))\n",
    "        U,V, e_in = train_model(M, N, k, eta, reg, Y_train)\n",
    "        E_ins_for_lambda.append(e_in)\n",
    "        eout = get_err(U, V, Y_test)\n",
    "        E_outs_for_lambda.append(eout)\n",
    "\n",
    "    E_ins.append(E_ins_for_lambda)\n",
    "    E_outs.append(E_outs_for_lambda)\n",
    "print(\"elapsed\", time.time() - start)\n",
    "\n",
    "# Plot values of E_in across k for each value of lambda\n",
    "for i in range(len(regs)):\n",
    "    plt.plot(Ks, E_ins[i], label='$E_{in}, \\lambda=$'+str(regs[i]))\n",
    "plt.title('$E_{in}$ vs. K')\n",
    "plt.xlabel('K')\n",
    "plt.ylabel('Error')\n",
    "plt.legend()\n",
    "plt.savefig('2e_ein.png')\t\n",
    "plt.clf()\n",
    "\n",
    "# Plot values of E_out across k for each value of lambda\n",
    "for i in range(len(regs)):\n",
    "    plt.plot(Ks, E_outs[i], label='$E_{out}, \\lambda=$'+str(regs[i]))\n",
    "plt.title('$E_{out}$ vs. K')\n",
    "plt.xlabel('K')\n",
    "plt.ylabel('Error')\n",
    "plt.legend()\t\n",
    "plt.savefig('2e_eout.png')\t\t\n"
   ]
  },
  {
   "cell_type": "code",
   "execution_count": null,
   "metadata": {},
   "outputs": [],
   "source": []
  }
 ],
 "metadata": {
  "kernelspec": {
   "display_name": "Python 3",
   "language": "python",
   "name": "python3"
  },
  "language_info": {
   "codemirror_mode": {
    "name": "ipython",
    "version": 3
   },
   "file_extension": ".py",
   "mimetype": "text/x-python",
   "name": "python",
   "nbconvert_exporter": "python",
   "pygments_lexer": "ipython3",
   "version": "3.8.1"
  }
 },
 "nbformat": 4,
 "nbformat_minor": 4
}
