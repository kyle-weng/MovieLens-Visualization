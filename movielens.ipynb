{
 "cells": [
  {
   "cell_type": "markdown",
   "metadata": {},
   "source": [
    "# MovieLens"
   ]
  },
  {
   "cell_type": "code",
   "execution_count": 1,
   "metadata": {},
   "outputs": [],
   "source": [
    "import numpy as np\n",
    "import matplotlib.pyplot as plt\n",
    "import pandas as pd\n",
    "import scipy.sparse\n",
    "\n",
    "import time"
   ]
  },
  {
   "cell_type": "markdown",
   "metadata": {},
   "source": [
    "## load data"
   ]
  },
  {
   "cell_type": "code",
   "execution_count": 2,
   "metadata": {},
   "outputs": [],
   "source": [
    "dRatings = pd.read_csv(\"data/data.txt\", sep=\"\\t\", header=None,\n",
    "                   names=[\"user\", \"movie\", \"rating\"])\n",
    "movies_raw = pd.read_csv(\"data/movies.txt\", sep=\"\\t\", header=None, index_col=0,\n",
    "                     names=[\"movie\",\"title\",\"unknown\",\"action\",\"adventure\",\"animation\",\n",
    "                            \"childrens\", \"comedy\",\"crime\",\"documentary\",\"drama\",\n",
    "                            \"fantasy\", \"filmnoir\", \"horror\",\"musical\",\"mystery\",\n",
    "                            \"romance\",\"scifi\",\"thriller\",\"war\",\"western\"]\n",
    "                    ).sort_index()\n",
    "\n",
    "dUsers = pd.DataFrame(index=pd.Index(dRatings[\"user\"].unique(), name=\"user\")).sort_index()\n",
    "dMovies = movies_raw.loc[:,[\"title\"]]\n",
    "dGenres = movies_raw.iloc[:,1:]\n",
    "\n",
    "nUsers = dUsers.shape[0]\n",
    "nRatings = dRatings.shape[0]\n",
    "nMovies = dMovies.shape[0]\n",
    "nGenres = dGenres.shape[1]"
   ]
  },
  {
   "cell_type": "markdown",
   "metadata": {},
   "source": [
    "and comptue some useful stuff"
   ]
  },
  {
   "cell_type": "code",
   "execution_count": 146,
   "metadata": {},
   "outputs": [],
   "source": [
    "spRatings = scipy.sparse.csr_matrix(\n",
    "    (dRatings[\"rating\"], (dRatings[\"user\"]-1, dRatings[\"movie\"]-1))\n",
    ")\n",
    "dsRatings = pd.DataFrame.sparse.from_spmatrix(\n",
    "    spRatings, index=dUsers.index, columns=dMovies.index\n",
    ").astype(pd.SparseDtype(\"float\", np.nan))\n",
    "spRated = spRatings > 0"
   ]
  },
  {
   "cell_type": "code",
   "execution_count": 4,
   "metadata": {},
   "outputs": [],
   "source": [
    "def mtoa(mat):\n",
    "    return np.array(mat).flatten()\n",
    "\n",
    "dUsers = dUsers.assign(watched=mtoa(spRated.sum(axis=1)))\n",
    "dUsers = dUsers.assign(rateravg=mtoa(spRatings.sum(axis=1))/dUsers[\"watched\"])\n",
    "\n",
    "dMovies = dMovies.assign(ratings=mtoa(spRated.sum(axis=0)))\n",
    "dMovies = dMovies.assign(movieavg=mtoa(spRatings.sum(axis=0))/dMovies[\"ratings\"])"
   ]
  },
  {
   "cell_type": "markdown",
   "metadata": {},
   "source": [
    "## screw around with data"
   ]
  },
  {
   "cell_type": "markdown",
   "metadata": {},
   "source": [
    "### Fun with movies"
   ]
  },
  {
   "cell_type": "code",
   "execution_count": 156,
   "metadata": {},
   "outputs": [],
   "source": [
    "def ratinghist(ratings, **kwargs):\n",
    "    \"\"\"histogram with bins from 1 to 5\"\"\"\n",
    "    return plt.hist(ratings, bins=range(1,7))\n",
    "\n",
    "def getRatings(df):\n",
    "    \"\"\"returns ratings (non-nan) values\"\"\"\n",
    "    values = df.values.flatten()\n",
    "    return values[~np.isnan(values)]"
   ]
  },
  {
   "cell_type": "code",
   "execution_count": 158,
   "metadata": {},
   "outputs": [
    {
     "data": {
      "text/plain": [
       "(array([ 6110., 11370., 27145., 34174., 21201.]),\n",
       " array([1, 2, 3, 4, 5, 6]),\n",
       " <a list of 5 Patch objects>)"
      ]
     },
     "execution_count": 158,
     "metadata": {},
     "output_type": "execute_result"
    },
    {
     "data": {
      "image/png": "[encoded data removed]",
      "text/plain": [
       "<Figure size 432x288 with 1 Axes>"
      ]
     },
     "metadata": {
      "needs_background": "light"
     },
     "output_type": "display_data"
    }
   ],
   "source": [
    "plt.title(\"All ratings\")\n",
    "ratinghist(getRatings(dsRatings))"
   ]
  },
  {
   "cell_type": "code",
   "execution_count": 94,
   "metadata": {},
   "outputs": [
    {
     "data": {
      "text/plain": [
       "(array([1.146e+03, 2.490e+02, 1.390e+02, 6.700e+01, 3.800e+01, 2.400e+01,\n",
       "        7.000e+00, 5.000e+00, 6.000e+00, 1.000e+00]),\n",
       " array([  1. ,  59.2, 117.4, 175.6, 233.8, 292. , 350.2, 408.4, 466.6,\n",
       "        524.8, 583. ]),\n",
       " <a list of 10 Patch objects>)"
      ]
     },
     "execution_count": 94,
     "metadata": {},
     "output_type": "execute_result"
    },
    {
     "data": {
      "image/png": "[encoded data removed]",
      "text/plain": [
       "<Figure size 432x288 with 1 Axes>"
      ]
     },
     "metadata": {
      "needs_background": "light"
     },
     "output_type": "display_data"
    }
   ],
   "source": [
    "plt.title(\"Number of ratings\")\n",
    "plt.hist(dMovies[\"ratings\"])"
   ]
  },
  {
   "cell_type": "code",
   "execution_count": 159,
   "metadata": {},
   "outputs": [
    {
     "data": {
      "text/html": [
       "<div>\n",
       "<style scoped>\n",
       "    .dataframe tbody tr th:only-of-type {\n",
       "        vertical-align: middle;\n",
       "    }\n",
       "\n",
       "    .dataframe tbody tr th {\n",
       "        vertical-align: top;\n",
       "    }\n",
       "\n",
       "    .dataframe thead th {\n",
       "        text-align: right;\n",
       "    }\n",
       "</style>\n",
       "<table border=\"1\" class=\"dataframe\">\n",
       "  <thead>\n",
       "    <tr style=\"text-align: right;\">\n",
       "      <th></th>\n",
       "      <th>title</th>\n",
       "      <th>ratings</th>\n",
       "      <th>movieavg</th>\n",
       "    </tr>\n",
       "    <tr>\n",
       "      <th>movie</th>\n",
       "      <th></th>\n",
       "      <th></th>\n",
       "      <th></th>\n",
       "    </tr>\n",
       "  </thead>\n",
       "  <tbody>\n",
       "    <tr>\n",
       "      <th>1536</th>\n",
       "      <td>Aiqing wansui (1994)</td>\n",
       "      <td>1</td>\n",
       "      <td>5.0</td>\n",
       "    </tr>\n",
       "    <tr>\n",
       "      <th>1500</th>\n",
       "      <td>Santa with Muscles (1996)</td>\n",
       "      <td>2</td>\n",
       "      <td>5.0</td>\n",
       "    </tr>\n",
       "    <tr>\n",
       "      <th>1189</th>\n",
       "      <td>Prefontaine (1997)</td>\n",
       "      <td>3</td>\n",
       "      <td>5.0</td>\n",
       "    </tr>\n",
       "    <tr>\n",
       "      <th>1201</th>\n",
       "      <td>Marlene Dietrich: Shadow and Light (1996)</td>\n",
       "      <td>1</td>\n",
       "      <td>5.0</td>\n",
       "    </tr>\n",
       "    <tr>\n",
       "      <th>1599</th>\n",
       "      <td>Someone Else's America (1995)</td>\n",
       "      <td>1</td>\n",
       "      <td>5.0</td>\n",
       "    </tr>\n",
       "    <tr>\n",
       "      <th>1122</th>\n",
       "      <td>They Made Me a Criminal (1939)</td>\n",
       "      <td>1</td>\n",
       "      <td>5.0</td>\n",
       "    </tr>\n",
       "    <tr>\n",
       "      <th>814</th>\n",
       "      <td>Great Day in Harlem, A (1994)</td>\n",
       "      <td>1</td>\n",
       "      <td>5.0</td>\n",
       "    </tr>\n",
       "    <tr>\n",
       "      <th>1653</th>\n",
       "      <td>Entertaining Angels: The Dorothy Day Story (1996)</td>\n",
       "      <td>1</td>\n",
       "      <td>5.0</td>\n",
       "    </tr>\n",
       "    <tr>\n",
       "      <th>1467</th>\n",
       "      <td>Saint of Fort Washington, The (1993)</td>\n",
       "      <td>2</td>\n",
       "      <td>5.0</td>\n",
       "    </tr>\n",
       "    <tr>\n",
       "      <th>1293</th>\n",
       "      <td>Star Kid (1997)</td>\n",
       "      <td>3</td>\n",
       "      <td>5.0</td>\n",
       "    </tr>\n",
       "  </tbody>\n",
       "</table>\n",
       "</div>"
      ],
      "text/plain": [
       "                                                   title  ratings  movieavg\n",
       "movie                                                                      \n",
       "1536                                Aiqing wansui (1994)        1       5.0\n",
       "1500                           Santa with Muscles (1996)        2       5.0\n",
       "1189                                  Prefontaine (1997)        3       5.0\n",
       "1201          Marlene Dietrich: Shadow and Light (1996)         1       5.0\n",
       "1599                       Someone Else's America (1995)        1       5.0\n",
       "1122                      They Made Me a Criminal (1939)        1       5.0\n",
       "814                        Great Day in Harlem, A (1994)        1       5.0\n",
       "1653   Entertaining Angels: The Dorothy Day Story (1996)        1       5.0\n",
       "1467                Saint of Fort Washington, The (1993)        2       5.0\n",
       "1293                                     Star Kid (1997)        3       5.0"
      ]
     },
     "execution_count": 159,
     "metadata": {},
     "output_type": "execute_result"
    },
    {
     "data": {
      "image/png": "[encoded data removed]",
      "text/plain": [
       "<Figure size 432x288 with 1 Axes>"
      ]
     },
     "metadata": {
      "needs_background": "light"
     },
     "output_type": "display_data"
    }
   ],
   "source": [
    "plt.title(\"Best rated\")\n",
    "best = dMovies.sort_values(\"movieavg\").tail(10)\n",
    "ratinghist(getRatings(dsRatings[best.index]))\n",
    "best"
   ]
  },
  {
   "cell_type": "code",
   "execution_count": 160,
   "metadata": {},
   "outputs": [
    {
     "data": {
      "text/html": [
       "<div>\n",
       "<style scoped>\n",
       "    .dataframe tbody tr th:only-of-type {\n",
       "        vertical-align: middle;\n",
       "    }\n",
       "\n",
       "    .dataframe tbody tr th {\n",
       "        vertical-align: top;\n",
       "    }\n",
       "\n",
       "    .dataframe thead th {\n",
       "        text-align: right;\n",
       "    }\n",
       "</style>\n",
       "<table border=\"1\" class=\"dataframe\">\n",
       "  <thead>\n",
       "    <tr style=\"text-align: right;\">\n",
       "      <th></th>\n",
       "      <th>title</th>\n",
       "      <th>ratings</th>\n",
       "      <th>movieavg</th>\n",
       "    </tr>\n",
       "    <tr>\n",
       "      <th>movie</th>\n",
       "      <th></th>\n",
       "      <th></th>\n",
       "      <th></th>\n",
       "    </tr>\n",
       "  </thead>\n",
       "  <tbody>\n",
       "    <tr>\n",
       "      <th>121</th>\n",
       "      <td>Independence Day (ID4) (1996)</td>\n",
       "      <td>429</td>\n",
       "      <td>3.438228</td>\n",
       "    </tr>\n",
       "    <tr>\n",
       "      <th>300</th>\n",
       "      <td>Air Force One (1997)</td>\n",
       "      <td>431</td>\n",
       "      <td>3.631090</td>\n",
       "    </tr>\n",
       "    <tr>\n",
       "      <th>1</th>\n",
       "      <td>Toy Story (1995)</td>\n",
       "      <td>452</td>\n",
       "      <td>3.878319</td>\n",
       "    </tr>\n",
       "    <tr>\n",
       "      <th>288</th>\n",
       "      <td>Scream (1996)</td>\n",
       "      <td>478</td>\n",
       "      <td>3.441423</td>\n",
       "    </tr>\n",
       "    <tr>\n",
       "      <th>286</th>\n",
       "      <td>English Patient, The (1996)</td>\n",
       "      <td>481</td>\n",
       "      <td>3.656965</td>\n",
       "    </tr>\n",
       "    <tr>\n",
       "      <th>294</th>\n",
       "      <td>Liar Liar (1997)</td>\n",
       "      <td>485</td>\n",
       "      <td>3.156701</td>\n",
       "    </tr>\n",
       "    <tr>\n",
       "      <th>181</th>\n",
       "      <td>Return of the Jedi (1983)</td>\n",
       "      <td>507</td>\n",
       "      <td>4.007890</td>\n",
       "    </tr>\n",
       "    <tr>\n",
       "      <th>100</th>\n",
       "      <td>Fargo (1996)</td>\n",
       "      <td>508</td>\n",
       "      <td>4.155512</td>\n",
       "    </tr>\n",
       "    <tr>\n",
       "      <th>258</th>\n",
       "      <td>Contact (1997)</td>\n",
       "      <td>509</td>\n",
       "      <td>3.803536</td>\n",
       "    </tr>\n",
       "    <tr>\n",
       "      <th>50</th>\n",
       "      <td>Star Wars (1977)</td>\n",
       "      <td>583</td>\n",
       "      <td>4.358491</td>\n",
       "    </tr>\n",
       "  </tbody>\n",
       "</table>\n",
       "</div>"
      ],
      "text/plain": [
       "                               title  ratings  movieavg\n",
       "movie                                                  \n",
       "121    Independence Day (ID4) (1996)      429  3.438228\n",
       "300             Air Force One (1997)      431  3.631090\n",
       "1                   Toy Story (1995)      452  3.878319\n",
       "288                    Scream (1996)      478  3.441423\n",
       "286      English Patient, The (1996)      481  3.656965\n",
       "294                 Liar Liar (1997)      485  3.156701\n",
       "181        Return of the Jedi (1983)      507  4.007890\n",
       "100                     Fargo (1996)      508  4.155512\n",
       "258                   Contact (1997)      509  3.803536\n",
       "50                  Star Wars (1977)      583  4.358491"
      ]
     },
     "execution_count": 160,
     "metadata": {},
     "output_type": "execute_result"
    },
    {
     "data": {
      "image/png": "[encoded data removed]",
      "text/plain": [
       "<Figure size 432x288 with 1 Axes>"
      ]
     },
     "metadata": {
      "needs_background": "light"
     },
     "output_type": "display_data"
    }
   ],
   "source": [
    "plt.title(\"Most popular\")\n",
    "popular = dMovies.sort_values(\"ratings\").tail(10)\n",
    "ratinghist(getRatings(dsRatings[popular.index]))\n",
    "popular"
   ]
  },
  {
   "cell_type": "code",
   "execution_count": 161,
   "metadata": {},
   "outputs": [
    {
     "data": {
      "text/plain": [
       "(array([ 942., 2017., 5061., 6882., 4559.]),\n",
       " array([1, 2, 3, 4, 5, 6]),\n",
       " <a list of 5 Patch objects>)"
      ]
     },
     "execution_count": 161,
     "metadata": {},
     "output_type": "execute_result"
    },
    {
     "data": {
      "image/png": "[encoded data removed]",
      "text/plain": [
       "<Figure size 432x288 with 1 Axes>"
      ]
     },
     "metadata": {
      "needs_background": "light"
     },
     "output_type": "display_data"
    },
    {
     "data": {
      "image/png": "[encoded data removed]",
      "text/plain": [
       "<Figure size 432x288 with 1 Axes>"
      ]
     },
     "metadata": {
      "needs_background": "light"
     },
     "output_type": "display_data"
    },
    {
     "data": {
      "image/png": "[encoded data removed]",
      "text/plain": [
       "<Figure size 432x288 with 1 Axes>"
      ]
     },
     "metadata": {
      "needs_background": "light"
     },
     "output_type": "display_data"
    }
   ],
   "source": [
    "def genreRatings(genre):\n",
    "    movies = dMovies.loc[dGenres[genre]==1,:].index\n",
    "    return ratinghist(getRatings(dsRatings[movies]))\n",
    "plt.title(\"Drama\")\n",
    "genreRatings(\"drama\")\n",
    "plt.figure()\n",
    "plt.title(\"Documentary\")\n",
    "genreRatings(\"documentary\")\n",
    "plt.figure()\n",
    "plt.title(\"Romance\")\n",
    "genreRatings(\"romance\")"
   ]
  },
  {
   "cell_type": "markdown",
   "metadata": {},
   "source": [
    "### fun with users"
   ]
  },
  {
   "cell_type": "code",
   "execution_count": 164,
   "metadata": {},
   "outputs": [
    {
     "data": {
      "text/plain": [
       "(array([  4.,  10.,  23.,  97., 385.]),\n",
       " array([1, 2, 3, 4, 5, 6]),\n",
       " <a list of 5 Patch objects>)"
      ]
     },
     "execution_count": 164,
     "metadata": {},
     "output_type": "execute_result"
    },
    {
     "data": {
      "image/png": "[encoded data removed]",
      "text/plain": [
       "<Figure size 432x288 with 1 Axes>"
      ]
     },
     "metadata": {
      "needs_background": "light"
     },
     "output_type": "display_data"
    }
   ],
   "source": [
    "plt.title(\"Nicest users\")\n",
    "nice = dUsers.sort_values(\"rateravg\").tail(10).index\n",
    "ratinghist(getRatings(dsRatings.loc[nice,:]))"
   ]
  },
  {
   "cell_type": "code",
   "execution_count": 165,
   "metadata": {},
   "outputs": [
    {
     "data": {
      "text/plain": [
       "(array([1073.,  311.,  192.,  134.,  116.]),\n",
       " array([1, 2, 3, 4, 5, 6]),\n",
       " <a list of 5 Patch objects>)"
      ]
     },
     "execution_count": 165,
     "metadata": {},
     "output_type": "execute_result"
    },
    {
     "data": {
      "image/png": "[encoded data removed]",
      "text/plain": [
       "<Figure size 432x288 with 1 Axes>"
      ]
     },
     "metadata": {
      "needs_background": "light"
     },
     "output_type": "display_data"
    }
   ],
   "source": [
    "plt.title(\"Meanest users\")\n",
    "mean = dUsers.sort_values(\"rateravg\").head(10).index\n",
    "ratinghist(getRatings(dsRatings.loc[mean,:]))"
   ]
  },
  {
   "cell_type": "markdown",
   "metadata": {},
   "source": [
    "### fun with genres"
   ]
  },
  {
   "cell_type": "code",
   "execution_count": 123,
   "metadata": {},
   "outputs": [
    {
     "data": {
      "text/plain": [
       "([0, 1, 2, 3, 4, 5, 6, 7, 8, 9, 10, 11, 12, 13, 14, 15, 16, 17, 18],\n",
       " <a list of 19 Text xticklabel objects>)"
      ]
     },
     "execution_count": 123,
     "metadata": {},
     "output_type": "execute_result"
    },
    {
     "data": {
      "image/png": "[encoded data removed]",
      "text/plain": [
       "<Figure size 432x288 with 1 Axes>"
      ]
     },
     "metadata": {
      "needs_background": "light"
     },
     "output_type": "display_data"
    }
   ],
   "source": [
    "plt.title(\"numbers\")\n",
    "plt.xticks(rotation=90)\n",
    "plt.bar(dGenres.columns, dGenres.sum(axis=0))"
   ]
  },
  {
   "cell_type": "code",
   "execution_count": 167,
   "metadata": {},
   "outputs": [
    {
     "data": {
      "text/plain": [
       "<BarContainer object of 19 artists>"
      ]
     },
     "execution_count": 167,
     "metadata": {},
     "output_type": "execute_result"
    },
    {
     "data": {
      "image/png": "[encoded data removed]",
      "text/plain": [
       "<Figure size 432x288 with 1 Axes>"
      ]
     },
     "metadata": {
      "needs_background": "light"
     },
     "output_type": "display_data"
    }
   ],
   "source": [
    "genreavg = np.zeros(nGenres)\n",
    "for i in range(nGenres):\n",
    "    movies = dMovies.index[dGenres.iloc[:,i]==1]\n",
    "    genreavg[i] = spRatings[:,movies-1].data.mean()\n",
    "\n",
    "plt.title(\"Ratings by genre\")\n",
    "plt.xticks(rotation=90)\n",
    "plt.bar(dGenres.columns, genreavg)"
   ]
  },
  {
   "cell_type": "code",
   "execution_count": 168,
   "metadata": {},
   "outputs": [
    {
     "data": {
      "text/plain": [
       "<matplotlib.colorbar.Colorbar at 0x7f2a529f0940>"
      ]
     },
     "execution_count": 168,
     "metadata": {},
     "output_type": "execute_result"
    },
    {
     "data": {
      "image/png": "[encoded data removed]",
      "text/plain": [
       "<Figure size 432x288 with 2 Axes>"
      ]
     },
     "metadata": {
      "needs_background": "light"
     },
     "output_type": "display_data"
    }
   ],
   "source": [
    "combos = np.zeros((nGenres, nGenres))\n",
    "for i in range(nGenres):\n",
    "    combos[i] = dGenres.loc[dGenres.iloc[:,i]==1].sum(axis=0)\n",
    "\n",
    "plt.title(\"Genre combinations\")\n",
    "plt.imshow(np.log1p(combos), cmap=\"magma_r\")\n",
    "plt.yticks(ticks=range(nGenres), labels=dGenres.columns)\n",
    "plt.xticks(ticks=range(nGenres), labels=dGenres.columns, rotation=90)\n",
    "plt.colorbar()"
   ]
  },
  {
   "cell_type": "markdown",
   "metadata": {},
   "source": [
    "There is an unfortunate lack of comedy film-noir, children's horror, and variety in documentaries.\n",
    "I mean, who doesn't want a scifi documentary, or a comedy documentary..."
   ]
  },
  {
   "cell_type": "markdown",
   "metadata": {},
   "source": [
    "Though we do have a war musical (Pink Floyd - The Wall (1982)), fantasy crime (Mask, The (1994)), and dramas about everything."
   ]
  },
  {
   "cell_type": "code",
   "execution_count": 178,
   "metadata": {},
   "outputs": [
    {
     "data": {
      "text/html": [
       "<div>\n",
       "<style scoped>\n",
       "    .dataframe tbody tr th:only-of-type {\n",
       "        vertical-align: middle;\n",
       "    }\n",
       "\n",
       "    .dataframe tbody tr th {\n",
       "        vertical-align: top;\n",
       "    }\n",
       "\n",
       "    .dataframe thead th {\n",
       "        text-align: right;\n",
       "    }\n",
       "</style>\n",
       "<table border=\"1\" class=\"dataframe\">\n",
       "  <thead>\n",
       "    <tr style=\"text-align: right;\">\n",
       "      <th></th>\n",
       "      <th>title</th>\n",
       "      <th>ratings</th>\n",
       "      <th>movieavg</th>\n",
       "    </tr>\n",
       "    <tr>\n",
       "      <th>movie</th>\n",
       "      <th></th>\n",
       "      <th></th>\n",
       "      <th></th>\n",
       "    </tr>\n",
       "  </thead>\n",
       "  <tbody>\n",
       "    <tr>\n",
       "      <th>72</th>\n",
       "      <td>Mask, The (1994)</td>\n",
       "      <td>129</td>\n",
       "      <td>3.193798</td>\n",
       "    </tr>\n",
       "  </tbody>\n",
       "</table>\n",
       "</div>"
      ],
      "text/plain": [
       "                  title  ratings  movieavg\n",
       "movie                                     \n",
       "72     Mask, The (1994)      129  3.193798"
      ]
     },
     "execution_count": 178,
     "metadata": {},
     "output_type": "execute_result"
    }
   ],
   "source": [
    "combo = [\"fantasy\",\"crime\"]\n",
    "dMovies[(dGenres[combo].sum(axis=1) == len(combo))]"
   ]
  }
 ],
 "metadata": {
  "kernelspec": {
   "display_name": "Python 3",
   "language": "python",
   "name": "python3"
  },
  "language_info": {
   "codemirror_mode": {
    "name": "ipython",
    "version": 3
   },
   "file_extension": ".py",
   "mimetype": "text/x-python",
   "name": "python",
   "nbconvert_exporter": "python",
   "pygments_lexer": "ipython3",
   "version": "3.8.1"
  }
 },
 "nbformat": 4,
 "nbformat_minor": 4
}
