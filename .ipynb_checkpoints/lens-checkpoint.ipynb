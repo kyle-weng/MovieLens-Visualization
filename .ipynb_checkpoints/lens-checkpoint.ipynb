{
 "cells": [
  {
   "cell_type": "code",
   "execution_count": 2,
   "metadata": {},
   "outputs": [],
   "source": [
    "from surprise import SVDpp\n",
    "from surprise import Dataset\n",
    "from surprise.model_selection import cross_validate\n",
    "from surprise.model_selection import train_test_split\n",
    "from surprise.model_selection import PredefinedKFold\n",
    "from surprise.reader import Reader\n",
    "from surprise import accuracy\n",
    "import numpy as np\n",
    "import pandas as p"
   ]
  },
  {
   "cell_type": "code",
   "execution_count": 4,
   "metadata": {},
   "outputs": [],
   "source": [
    "loc = \"data\";\n",
    "train = \"train.txt\";\n",
    "test = \"test.txt\";\n",
    "alld = \"data.txt\"\n",
    "def file(loc, n):\n",
    "    return \"{}/{}\".format(loc,n)\n",
    "\n",
    "def load(loc,filef):\n",
    "    filename = file(loc,filef)\n",
    "    return p.read_csv(filename, sep='\\t', header=None)\n",
    "Xtrain = load(loc, train)\n",
    "Xtest = load(loc, test)\n",
    "Xall = load(loc,alld)"
   ]
  },
  {
   "cell_type": "code",
   "execution_count": 5,
   "metadata": {},
   "outputs": [],
   "source": [
    "def do(xtrain, xtest):\n",
    "    reader = Reader(line_format='user item rating', sep='\\t')\n",
    "    datatrain = Dataset.load_from_df(xtrain, reader)\n",
    "    datatest = Dataset.load_from_df(xtest, reader)\n",
    "    trainset = datatrain.build_full_trainset()\n",
    "    algo = SVDpp()\n",
    "    algo.fit(trainset)\n",
    "    testset = datatest.build_full_trainset().build_testset()\n",
    "    predictions = algo.test(testset)\n",
    "    accuracy.rmse(predictions)\n",
    "    return algo \n",
    "def getVp(algo):\n",
    "    #user factors\n",
    "    U=algo.pu.T\n",
    "    #item factors\n",
    "    V=algo.qi.T\n",
    "    A,S,B=np.linalg.svd(V)\n",
    "    Vp=(A[:,0:2].T).dot(V)\n",
    "    return Vp"
   ]
  },
  {
   "cell_type": "code",
   "execution_count": 6,
   "metadata": {},
   "outputs": [
    {
     "name": "stdout",
     "output_type": "stream",
     "text": [
      "RMSE: 0.9159\n",
      "RMSE: 0.7528\n"
     ]
    }
   ],
   "source": [
    "train_algo = do(Xtrain,Xtest)\n",
    "all_algo = do(Xall,Xall)\n",
    "Vp = getVp(all_algo)"
   ]
  },
  {
   "cell_type": "code",
   "execution_count": 7,
   "metadata": {},
   "outputs": [],
   "source": [
    "offtheshelf = \"surprise.csv\"\n",
    "np.savetxt(file(loc,offtheshelf), Vp, delimiter=',')"
   ]
  },
  {
   "cell_type": "code",
   "execution_count": 10,
   "metadata": {},
   "outputs": [],
   "source": [
    "from sklearn.manifold import TSNE\n",
    "Vembedded=TSNE(n_components=2).fit_transform(Vp.T)"
   ]
  },
  {
   "cell_type": "code",
   "execution_count": 11,
   "metadata": {},
   "outputs": [],
   "source": [
    "whatisthis = \"vis2.csv\"\n",
    "np.savetxt(file(loc,whatisthis), Vembedded, delimiter=',')"
   ]
  },
  {
   "cell_type": "code",
   "execution_count": 12,
   "metadata": {},
   "outputs": [
    {
     "data": {
      "image/png": "[encoded data removed]",
      "text/plain": [
       "<Figure size 432x288 with 1 Axes>"
      ]
     },
     "metadata": {
      "needs_background": "light"
     },
     "output_type": "display_data"
    }
   ],
   "source": [
    "import matplotlib.pyplot as plt\n",
    "plt.plot(Vp[0], Vp[1], 'o', color='black');\n"
   ]
  }
 ],
 "metadata": {
  "kernelspec": {
   "display_name": "Python 3",
   "language": "python",
   "name": "python3"
  },
  "language_info": {
   "codemirror_mode": {
    "name": "ipython",
    "version": 3
   },
   "file_extension": ".py",
   "mimetype": "text/x-python",
   "name": "python",
   "nbconvert_exporter": "python",
   "pygments_lexer": "ipython3",
   "version": "3.7.6"
  }
 },
 "nbformat": 4,
 "nbformat_minor": 2
}
